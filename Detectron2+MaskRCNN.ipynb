{
 "cells": [
  {
   "cell_type": "code",
   "execution_count": 3,
   "metadata": {},
   "outputs": [
    {
     "name": "stderr",
     "output_type": "stream",
     "text": [
      "The checkpoint state_dict contains keys that are not used by the model:\n",
      "  \u001b[35mroi_heads.mask_head.mask_fcn1.{bias, weight}\u001b[0m\n",
      "  \u001b[35mroi_heads.mask_head.mask_fcn2.{bias, weight}\u001b[0m\n",
      "  \u001b[35mroi_heads.mask_head.mask_fcn3.{bias, weight}\u001b[0m\n",
      "  \u001b[35mroi_heads.mask_head.mask_fcn4.{bias, weight}\u001b[0m\n",
      "  \u001b[35mroi_heads.mask_head.deconv.{bias, weight}\u001b[0m\n",
      "  \u001b[35mroi_heads.mask_head.predictor.{bias, weight}\u001b[0m\n",
      "c:\\Program Files\\Python310\\lib\\site-packages\\torch\\functional.py:513: UserWarning: torch.meshgrid: in an upcoming release, it will be required to pass the indexing argument. (Triggered internally at C:\\actions-runner\\_work\\pytorch\\pytorch\\builder\\windows\\pytorch\\aten\\src\\ATen\\native\\TensorShape.cpp:3610.)\n",
      "  return _VF.meshgrid(tensors, **kwargs)  # type: ignore[attr-defined]\n"
     ]
    },
    {
     "name": "stdout",
     "output_type": "stream",
     "text": [
      "Predicted Class: vase\n",
      "Predicted Class: potted plant\n",
      "Predicted Class: bowl\n",
      "Predicted Class: handbag\n",
      "Predicted Class: cup\n",
      "Predicted Class: potted plant\n",
      "Predicted Class: vase\n",
      "Predicted Class: toaster\n",
      "Predicted Class: bowl\n",
      "Predicted Class: suitcase\n",
      "Predicted Class: potted plant\n",
      "Predicted Class: vase\n",
      "Predicted Class: vase\n",
      "Prediction result saved to C:/Users/alham/Desktop/test_images/predicted_annie-spratt-PcS2mgh_hUA-unsplash.jpg\n",
      "Predicted Class: chair\n",
      "Predicted Class: bed\n",
      "Predicted Class: bed\n",
      "Predicted Class: bed\n",
      "Prediction result saved to C:/Users/alham/Desktop/test_images/predicted_clay-banks-Fr62lAJFnII-unsplash.jpg\n",
      "Predicted Class: vase\n",
      "Predicted Class: book\n",
      "Prediction result saved to C:/Users/alham/Desktop/test_images/predicted_priscilla-du-preez-i__4ck2ml4M-unsplash.jpg\n"
     ]
    }
   ],
   "source": [
    "# This code configures a Detectron2 Mask R-CNN model for object detection, processes all images in a specified folder, \n",
    "# performs inference on each image, prints the detected classes, visualizes the predictions with bounding boxes, \n",
    "# and saves the output images with a \"predicted_\" prefix in the same folder.\n",
    "\n",
    "import cv2\n",
    "import os\n",
    "from detectron2.engine import DefaultPredictor\n",
    "from detectron2.config import get_cfg\n",
    "from detectron2 import model_zoo\n",
    "from detectron2.utils.visualizer import Visualizer\n",
    "from detectron2.data import MetadataCatalog\n",
    "import torch\n",
    "\n",
    "cfg = get_cfg()\n",
    "cfg.merge_from_file(model_zoo.get_config_file(\"COCO-InstanceSegmentation/mask_rcnn_X_101_32x8d_FPN_3x.yaml\"))\n",
    "cfg.MODEL.WEIGHTS = model_zoo.get_checkpoint_url(\"COCO-InstanceSegmentation/mask_rcnn_X_101_32x8d_FPN_3x.yaml\")\n",
    "cfg.MODEL.ROI_HEADS.SCORE_THRESH_TEST = 0.3\n",
    "cfg.MODEL.DEVICE = 'cuda' if torch.cuda.is_available() else 'cpu'\n",
    "cfg.TEST.DETECTIONS_PER_IMAGE = 100\n",
    "cfg.INPUT.MIN_SIZE_TEST = 1333\n",
    "cfg.MODEL.MASK_ON = False\n",
    "\n",
    "\n",
    "predictor = DefaultPredictor(cfg)\n",
    "\n",
    "\n",
    "folder_path = 'C:/Users/alham/Desktop/test_images/'\n",
    "\n",
    "\n",
    "for filename in os.listdir(folder_path):\n",
    "    if filename.endswith((\".jpg\", \".png\", \".jpeg\", \".bmp\")):  \n",
    "        image_path = os.path.join(folder_path, filename)\n",
    "        img = cv2.imread(image_path)\n",
    "        \n",
    "       \n",
    "        outputs = predictor(img)\n",
    "        \n",
    "        \n",
    "        coco_classes = MetadataCatalog.get(\"coco_2017_train\").thing_classes\n",
    "        for cls in outputs[\"instances\"].pred_classes:\n",
    "            print(f\"Predicted Class: {coco_classes[cls]}\")\n",
    "        \n",
    "        \n",
    "        img_resized_rgb = cv2.cvtColor(img, cv2.COLOR_BGR2RGB)\n",
    "        v = Visualizer(img_resized_rgb, MetadataCatalog.get(\"coco_2017_train\"), scale=1.2)\n",
    "        out = v.draw_instance_predictions(outputs[\"instances\"].to(\"cpu\"))\n",
    "        \n",
    "        \n",
    "        result_img_bgr = cv2.cvtColor(out.get_image(), cv2.COLOR_RGB2BGR)\n",
    "        output_path = os.path.join(folder_path, f\"predicted_{filename}\")\n",
    "        cv2.imwrite(output_path, result_img_bgr)\n",
    "        print(f\"Prediction result saved to {output_path}\")\n"
   ]
  }
 ],
 "metadata": {
  "kernelspec": {
   "display_name": "Python 3",
   "language": "python",
   "name": "python3"
  },
  "language_info": {
   "codemirror_mode": {
    "name": "ipython",
    "version": 3
   },
   "file_extension": ".py",
   "mimetype": "text/x-python",
   "name": "python",
   "nbconvert_exporter": "python",
   "pygments_lexer": "ipython3",
   "version": "3.10.11"
  }
 },
 "nbformat": 4,
 "nbformat_minor": 2
}
