{
 "cells": [
  {
   "cell_type": "code",
   "execution_count": null,
   "id": "8f37062e-6aee-4d30-b76f-0eab76fcb1b4",
   "metadata": {},
   "outputs": [],
   "source": [
    "# This code loads a pre-trained YOLOv5 model, processes all images in a specified folder, \n",
    "# performs object detection on each image, displays the results, and saves the output with predictions in a subfolder called 'predicted_images'.\n",
    "\n",
    "\n",
    "import torch\n",
    "import os\n",
    "from pathlib import Path\n",
    "\n",
    "model = torch.hub.load('ultralytics/yolov5', 'yolov5x', pretrained=True)\n",
    "\n",
    "folder_path = 'C:/Users/alham/Desktop/test_images/'  \n",
    "\n",
    "output_folder = os.path.join(folder_path, 'predicted_images')\n",
    "os.makedirs(output_folder, exist_ok=True)\n",
    "\n",
    "for img_file in os.listdir(folder_path):\n",
    "    if img_file.endswith(('.jpg', '.jpeg', '.png', '.bmp', '.tiff')):\n",
    "        img_path = os.path.join(folder_path, img_file)\n",
    "        \n",
    "        results = model(img_path)\n",
    "        \n",
    "        results.show() \n",
    "\n",
    "        results.save(save_dir=output_folder)\n",
    "        print(f\"Processed and saved: {img_file}\")\n",
    "\n",
    "print(f\"All images processed. Results saved in: {output_folder}\")\n"
   ]
  },
  {
   "cell_type": "code",
   "execution_count": null,
   "id": "fa95116d-eca7-40be-8063-d4ab93c62aa5",
   "metadata": {},
   "outputs": [],
   "source": []
  }
 ],
 "metadata": {
  "kernelspec": {
   "display_name": "Python 3 (ipykernel)",
   "language": "python",
   "name": "python3"
  },
  "language_info": {
   "codemirror_mode": {
    "name": "ipython",
    "version": 3
   },
   "file_extension": ".py",
   "mimetype": "text/x-python",
   "name": "python",
   "nbconvert_exporter": "python",
   "pygments_lexer": "ipython3",
   "version": "3.12.4"
  }
 },
 "nbformat": 4,
 "nbformat_minor": 5
}
